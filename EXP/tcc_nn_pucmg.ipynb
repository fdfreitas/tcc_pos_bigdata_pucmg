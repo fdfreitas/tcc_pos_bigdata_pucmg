{
 "cells": [
  {
   "cell_type": "markdown",
   "metadata": {},
   "source": [
    "# Trabalho de Conclusão de Curso\n",
    "# Pós-graduação em Ciência de Dados e Big Data (2020) - PUC Minas\n",
    "## Fábio Daros de Freitas\n",
    "### Módulo preditor baseado em redes neurais\n",
    "\n",
    "<font color='red'>\n",
    "<h3>    \n",
    "Versão disponibilizada no repositório como requisito da PUC-MG para entrega do TCC.<br>\n",
    "Todos os dados sigilosos foram anonimizados, descaracterizados, <br>\n",
    "e com valores nominais substituidos por z-scores, em conformidade com o sigilo fiscal dos dados.<br>\n",
    "Consultar o texto do TCC para obter mais detalhes.     \n",
    "</h3>    \n",
    "</font>    "
   ]
  },
  {
   "cell_type": "code",
   "execution_count": 15,
   "metadata": {},
   "outputs": [
    {
     "data": {
      "text/html": [
       "<style>.container { width:100% !important; }</style>"
      ],
      "text/plain": [
       "<IPython.core.display.HTML object>"
      ]
     },
     "metadata": {},
     "output_type": "display_data"
    },
    {
     "name": "stdout",
     "output_type": "stream",
     "text": [
      "Pandas version......: 0.24.2\n",
      "Numpy version.......: 1.16.2\n",
      "Scikit-learn version: 0.20.3\n",
      "Seaborn version.....: 0.9.0\n",
      "Stats models version: 0.9.0\n",
      "Matplotlib version..: 3.0.3\n"
     ]
    },
    {
     "data": {
      "text/markdown": [
       "**OK**"
      ],
      "text/plain": [
       "<IPython.core.display.Markdown object>"
      ]
     },
     "metadata": {},
     "output_type": "display_data"
    }
   ],
   "source": [
    "import sys\n",
    "import os\n",
    "tcc_dir = 'C:\\REPO'\n",
    "sys.path.append(tcc_dir)\n",
    "if 'COMMON.tcc_common' in sys.modules:\n",
    "    del sys.modules['COMMON.tcc_common']\n",
    "from COMMON.tcc_common import *\n",
    "print_md('**OK**')\n",
    "\n",
    "import torch"
   ]
  },
  {
   "cell_type": "code",
   "execution_count": 20,
   "metadata": {},
   "outputs": [],
   "source": [
    "# Le dataset anonimizado, descaracterizado, e com valores z-scores ao inves dos valores nominais\n",
    "fname=f'tcc_dataset_final_balanceado_descaracterizado.csv'\n",
    "df = pd.read_csv(fname)    "
   ]
  },
  {
   "cell_type": "code",
   "execution_count": 21,
   "metadata": {},
   "outputs": [],
   "source": [
    "# Importa modulos PyTorch\n",
    "from numpy import vstack\n",
    "from pandas import read_csv\n",
    "from sklearn.metrics import accuracy_score\n",
    "from torch.utils.data import Dataset\n",
    "from torch.utils.data import DataLoader\n",
    "from torch.utils.data import random_split\n",
    "from torch import Tensor\n",
    "from torch.nn import Linear\n",
    "from torch.nn import ReLU\n",
    "from torch.nn import Sigmoid\n",
    "from torch.nn import Module\n",
    "from torch.optim import SGD\n",
    "from torch.nn import BCELoss, BCEWithLogitsLoss\n",
    "from torch.nn.init import kaiming_uniform_\n",
    "from torch.nn.init import xavier_uniform_"
   ]
  },
  {
   "cell_type": "code",
   "execution_count": 22,
   "metadata": {},
   "outputs": [],
   "source": [
    "# Neural Network class\n",
    "'''\n",
    "Network topology definition dictionary in the form:\n",
    "\n",
    "topology = Dict()\n",
    "topology.name            = f'Topology name used as abse filename for saving model parameters'\n",
    "topology.layers          = 'inp :  64          : 32           : 2               :1'\n",
    "topology.activations     = 'inp : relu         : relu         : sigmoid         : sigmoid'\n",
    "topology.initializations = 'inp : kaiming_relu : kaiming_relu : kaiming_sigmoid : xavier'\n",
    "\n",
    "'''\n",
    "# model definition\n",
    "class MLP(Module):\n",
    "    # define model elements\n",
    "    def __init__(self, topology):\n",
    "        super(MLP, self).__init__()\n",
    "        torch.manual_seed(0)        \n",
    "        self.layers = []\n",
    "        self.activations = []\n",
    "        # parse topology and activations\n",
    "        print('Creating neural network:')        \n",
    "        layers          = topology.layers.replace(' ', '').split(':')[1:]\n",
    "        activations     = topology.activations.replace(' ', '').split(':')[1:]    \n",
    "        initializations = topology.initializations.replace(' ', '').split(':')[1:] if 'initializations' in topology else None\n",
    "        n_input = topology.input_size\n",
    "        for i in range(len(layers)):            \n",
    "            # layers\n",
    "            n_output = int(layers[i])            \n",
    "            print(f'-layer({i+1}): Linear({n_input:3d}, {n_output:3d})', end='\\t')\n",
    "            layer = torch.nn.Linear(n_input, n_output)\n",
    "            setattr(self, f'layer{i}', layer) # necessary that the layer be a member of the class            \n",
    "            self.layers.append(layer)\n",
    "            \n",
    "            # activations\n",
    "            activation = activations[i]\n",
    "            if activation == 'relu':\n",
    "                print(f'activation {activation}', end='\\t')\n",
    "                self.activations.append(torch.relu)\n",
    "            elif activation == 'sigmoid':\n",
    "                print(f'activation {activation}', end='\\t')                                                          \n",
    "                self.activations.append(torch.sigmoid)\n",
    "            \n",
    "            # initializations\n",
    "            if initializations is not None:\n",
    "                initialization = initializations[i]\n",
    "                if initialization == '':\n",
    "                    print(f'no weights initialization', end='\\t')                    \n",
    "                if initialization.startswith('kaiming'):\n",
    "                    nl = initialization.split('_')\n",
    "                    if len(nl) == 1:\n",
    "                        nonlinearity = 'relu'\n",
    "                    if len(nl) == 2:\n",
    "                        nonlinearity = initialization.split('_')[1]\n",
    "                        torch.nn.init.kaiming_uniform_(getattr(self, f'layer{i}').weight, nonlinearity=nonlinearity)\n",
    "                    else:\n",
    "                        nonlinearity = None                        \n",
    "\n",
    "                    if nonlinearity is None:\n",
    "                        print(f'**ERROR*: {initialization} not in format kaiming_nonlinearity', end='\\t') \n",
    "                    else:\n",
    "                        torch.nn.init.kaiming_uniform_(getattr(self, f'layer{i}').weight, nonlinearity=nonlinearity)                                                \n",
    "                        print(f'weights initialization kaiming_uniform_ {nonlinearity} ', end='\\t')\n",
    "\n",
    "                elif initialization.startswith('xavier'):\n",
    "                    torch.nn.init.xavier_uniform_(getattr(self, f'layer{i}').weight)\n",
    "                    print(f'weights initialization xavier_uniform_', end='\\t')                                                                                                                              \n",
    "            print('')            \n",
    "            # next n_input\n",
    "            n_input = n_output\n",
    "        print('')\n",
    "\n",
    "    # forward propagate input\n",
    "    def forward(self, X):        \n",
    "        for layer, activation in zip(self.layers, self.activations):                    \n",
    "            X = activation(layer(X))                \n",
    "        return X\n",
    "\n",
    "    # reset all weights\n",
    "    def reset_weights(self):\n",
    "        #print(f'Reset all network trainable parameters')        \n",
    "        for layer in self.children():\n",
    "            if hasattr(layer, 'reset_parameters'):\n",
    "                #print(f'Reset trainable parameters of layer = {layer}')\n",
    "                layer.reset_parameters()\n",
    "                \n",
    "# dataset definition\n",
    "class DataSet(Dataset):\n",
    "    # load the dataset\n",
    "    def __init__(self, df):\n",
    "        # store the inputs and outputs\n",
    "        self.X = df.values[:, :-1]\n",
    "        self.y = df.values[:, -1]        \n",
    "        # ensure input data is floats\n",
    "        self.X = self.X.astype('float32')\n",
    "        self.y = self.y.astype('float32')\n",
    "        self.y = self.y.reshape((len(self.y), 1))\n",
    " \n",
    "    # number of rows in the dataset\n",
    "    def __len__(self):\n",
    "        return len(self.X)\n",
    " \n",
    "    # get a row at an index\n",
    "    def __getitem__(self, idx):\n",
    "        return [self.X[idx], self.y[idx]]\n",
    " \n",
    "    # get indexes for train and test rows\n",
    "    def get_splits(self, n_test=0.20):\n",
    "        # determine sizes\n",
    "        test_size = round(n_test * len(self.X))\n",
    "        train_size = len(self.X) - test_size\n",
    "        # calculate the split\n",
    "        return random_split(self, [train_size, test_size])                "
   ]
  },
  {
   "cell_type": "code",
   "execution_count": 40,
   "metadata": {},
   "outputs": [],
   "source": [
    "# Preditor baseado em Redes Neurais\n",
    "\n",
    "# model_cross_validation() callback handlers:\n",
    "\n",
    "# prepare the dataset for a single fold\n",
    "def fold_data(df, trn_ids, tst_ids, fold, epochs, lr, momentum, verbose, plot):\n",
    "    \n",
    "    # preprocess features\n",
    "    scaler       = StandardScaler()    \n",
    "    cols         = df_columns_metric(df)\n",
    "    feats        = scaler.fit_transform(df[cols])\n",
    "    df[cols] = pd.DataFrame(feats, index=df.index, columns=cols)        \n",
    "            \n",
    "    # adjusts data types\n",
    "    df['maed_dctf']       = df['maed_dctf'].astype(np.float64)\n",
    "    df['maed_dctf_total'] = df['maed_dctf_total'].astype(np.float64)    \n",
    "        \n",
    "    # load the dataset\n",
    "    dataset = DataSet(df)\n",
    "    \n",
    "    # Sample elements randomly from a given list of ids, no replacement.\n",
    "    trn_subsampler = torch.utils.data.SubsetRandomSampler(trn_ids)\n",
    "    tst_subsampler  = torch.utils.data.SubsetRandomSampler(tst_ids)\n",
    "    \n",
    "    # Define data loaders for training and testing data in this fold\n",
    "    trn_dl = torch.utils.data.DataLoader(dataset, batch_size=100, sampler=trn_subsampler)\n",
    "    tst_dl = torch.utils.data.DataLoader(dataset, batch_size=100, sampler=tst_subsampler)    \n",
    "   \n",
    "    return trn_dl, tst_dl    \n",
    "\n",
    "# train the model\n",
    "def train_model(model, trn_dl, tst_dl, fold, epochs, lr, momentum, verbose, plot):\n",
    "    print(f'Training model during {epochs} epochs ...')\n",
    "\n",
    "    losses = []\n",
    "    accuracies  = []\n",
    "\n",
    "    # Set model inits    \n",
    "    torch.manual_seed(0)        \n",
    "    model.reset_weights()\n",
    "    \n",
    "    # define the optimization\n",
    "    criterion = BCELoss()\n",
    "           \n",
    "    optimizer = torch.optim.Adam(model.parameters(), lr=lr)\n",
    "    \n",
    "    trn_metrics = PredResult(name='Train trn', index_name='epoch')\n",
    "    tst_metrics = PredResult(name='Train tst', index_name='epoch')\n",
    "    \n",
    "    loss_trn = []\n",
    "    \n",
    "    # enumerate epochs    \n",
    "    for epoch in range(epochs):\n",
    "        \n",
    "        # train mini-batches\n",
    "        current_loss = []        \n",
    "        count = 0\n",
    "        \n",
    "        for i, (inputs, targets) in enumerate(trn_dl):\n",
    "\n",
    "            # clear the gradients\n",
    "            optimizer.zero_grad()\n",
    "            # compute the model output\n",
    "            yhat = model(inputs)\n",
    "            # calculate loss\n",
    "            \n",
    "            loss = criterion(yhat, targets)\n",
    "            # credit assignment\n",
    "            loss.backward()\n",
    "            \n",
    "            # update model weights\n",
    "            optimizer.step()\n",
    "\n",
    "            # Print statistics\n",
    "            current_loss.append(loss.item())\n",
    "            \n",
    "            count += 1\n",
    "\n",
    "        if (epochs < 50 or not epoch % 49) or epoch == epochs-1: # force update at last epoch\n",
    "            #print(f'epoch={epoch} count={count}')\n",
    "\n",
    "            trn_epoch_loss = sum(current_loss)/len(current_loss)\n",
    "            loss_trn.append(trn_epoch_loss)\n",
    "\n",
    "            # evaluate mini-batches training and record performance            \n",
    "            y_true, y_pred, trn_epoch_accuracy = evaluate_model(model, trn_dl) \n",
    "            trn_metrics.update(y_true, y_pred, epoch+1)\n",
    "\n",
    "            y_true, y_pred, tst_epoch_accuracy = evaluate_model(model, tst_dl)\n",
    "            tst_metrics.update(y_true, y_pred, epoch+1) \n",
    "        \n",
    "        if not epoch % 99:\n",
    "            if verbose:\n",
    "                print(f'Epoch {epoch+1} partial result: average loss={trn_epoch_loss:.4f}')\n",
    "                trn_metrics.display_metrics()\n",
    "                tst_metrics.display_metrics()                                            \n",
    "    \n",
    "    if plot:\n",
    "        plot_training(loss_trn, trn_metrics, tst_metrics, fold)\n",
    "    \n",
    "    return trn_metrics, tst_metrics\n",
    "\n",
    "#\n",
    "# Training auxiliary functions\n",
    "#\n",
    "\n",
    "# evaluate the model\n",
    "def evaluate_model(model, test_dl):\n",
    "    predictions, actuals = list(), list()\n",
    "    for i, (inputs, targets) in enumerate(test_dl):\n",
    "        # evaluate the model on the test set\n",
    "        yhat = model(inputs)\n",
    "        # retrieve numpy array\n",
    "        yhat = yhat.detach().numpy()\n",
    "        actual = targets.numpy()\n",
    "        actual = actual.reshape((len(actual), 1))\n",
    "        # round to class values\n",
    "        yhat = yhat.round()\n",
    "        # store\n",
    "        predictions.append(yhat)\n",
    "        actuals.append(actual)\n",
    "\n",
    "    predictions, actuals = vstack(predictions), vstack(actuals)\n",
    "    # calculate accuracy\n",
    "    accuracy = accuracy_score(actuals, predictions)\n",
    "    \n",
    "    return actuals, predictions, accuracy\n",
    " \n",
    "# predict one row of data\n",
    "def predict(row, model):\n",
    "    # convert row to data\n",
    "    row = Tensor([row])\n",
    "    # make prediction\n",
    "    yhat = model(row)\n",
    "    # retrieve numpy array\n",
    "    yhat = yhat.detach().numpy()\n",
    "    return yhat\n",
    "\n",
    "def plot_training(loss_trn, trn_metrics, tst_metrics, fold):\n",
    "    dpi = 100\n",
    "    fig = plt.figure(figsize=(600/dpi, 400/dpi), dpi=dpi)        \n",
    "    fig.suptitle(f'Fold {fold+1} training', fontsize=16)        \n",
    "    axes = fig.subplots(1, 1, sharex=True, gridspec_kw={'height_ratios': [1]})\n",
    "    ax = axes\n",
    "    plt.xlabel('Epoch')\n",
    "\n",
    "    if trn_metrics.get_history() is not None:\n",
    "        ax = ax        \n",
    "        x = trn_metrics.get_history().index.to_numpy()    \n",
    "        ax.plot(x, loss_trn, label='trn loss')    \n",
    "        ax.plot(x, trn_metrics.get_history().Accuracy, label='trn accuracy')\n",
    "        ax.plot(x, tst_metrics.get_history().Accuracy, label='tst accuracy')    \n",
    "        ax.plot(x, trn_metrics.get_history().Precision, label='trn precision')\n",
    "        ax.plot(x, tst_metrics.get_history().Precision, label='tst precision')    \n",
    "        ax.legend(loc='center')\n",
    "        fname = f'nn_training_fold_{fold+1}.png'\n",
    "        print(f'Saving figure to file {fname}')\n",
    "        plt.savefig(fname, dpi=dpi, bbox_inches='tight')"
   ]
  },
  {
   "cell_type": "code",
   "execution_count": 41,
   "metadata": {
    "scrolled": false
   },
   "outputs": [
    {
     "name": "stdout",
     "output_type": "stream",
     "text": [
      "Creating neural network:\n",
      "-layer(1): Linear( 11,  64)\tactivation relu\tweights initialization kaiming_uniform_ relu \t\n",
      "-layer(2): Linear( 64,  32)\tactivation relu\tweights initialization kaiming_uniform_ relu \t\n",
      "-layer(3): Linear( 32,   2)\tactivation relu\tweights initialization kaiming_uniform_ relu \t\n",
      "-layer(4): Linear(  2,   1)\tactivation sigmoid\tweights initialization xavier_uniform_\t\n",
      "\n"
     ]
    },
    {
     "data": {
      "text/markdown": [
       "**Model 5-fold Cross Validation:**"
      ],
      "text/plain": [
       "<IPython.core.display.Markdown object>"
      ]
     },
     "metadata": {},
     "output_type": "display_data"
    },
    {
     "data": {
      "text/markdown": [
       "\n",
       "---\n"
      ],
      "text/plain": [
       "<IPython.core.display.Markdown object>"
      ]
     },
     "metadata": {},
     "output_type": "display_data"
    },
    {
     "data": {
      "text/markdown": [
       "**Fold 1**"
      ],
      "text/plain": [
       "<IPython.core.display.Markdown object>"
      ]
     },
     "metadata": {},
     "output_type": "display_data"
    },
    {
     "name": "stdout",
     "output_type": "stream",
     "text": [
      "trn_ids=8208 (80.00%) tst_ids=2052 (20.00%)\n",
      "Training model during 500 epochs ...\n",
      "Saving figure to file nn_training_fold_1.png\n",
      "Fold 1 performance and last test set prediction result:\n"
     ]
    },
    {
     "data": {
      "text/markdown": [
       "**Train trn - Metrics values (avg) values:**"
      ],
      "text/plain": [
       "<IPython.core.display.Markdown object>"
      ]
     },
     "metadata": {},
     "output_type": "display_data"
    },
    {
     "data": {
      "text/html": [
       "<div>\n",
       "<style scoped>\n",
       "    .dataframe tbody tr th:only-of-type {\n",
       "        vertical-align: middle;\n",
       "    }\n",
       "\n",
       "    .dataframe tbody tr th {\n",
       "        vertical-align: top;\n",
       "    }\n",
       "\n",
       "    .dataframe thead th {\n",
       "        text-align: right;\n",
       "    }\n",
       "</style>\n",
       "<table border=\"1\" class=\"dataframe\">\n",
       "  <thead>\n",
       "    <tr style=\"text-align: right;\">\n",
       "      <th></th>\n",
       "      <th>FPR</th>\n",
       "      <th>FNR</th>\n",
       "      <th>TNR</th>\n",
       "      <th>NPV</th>\n",
       "      <th>FDR</th>\n",
       "      <th>Recall</th>\n",
       "      <th>Precision</th>\n",
       "      <th>Accuracy</th>\n",
       "    </tr>\n",
       "  </thead>\n",
       "  <tbody>\n",
       "    <tr>\n",
       "      <th>value</th>\n",
       "      <td>0.21</td>\n",
       "      <td>0.11</td>\n",
       "      <td>0.79</td>\n",
       "      <td>0.88</td>\n",
       "      <td>0.19</td>\n",
       "      <td>0.89</td>\n",
       "      <td>0.81</td>\n",
       "      <td>0.84</td>\n",
       "    </tr>\n",
       "  </tbody>\n",
       "</table>\n",
       "</div>"
      ],
      "text/plain": [
       "       FPR  FNR  TNR  NPV  FDR  Recall  Precision  Accuracy\n",
       "value 0.21 0.11 0.79 0.88 0.19    0.89       0.81      0.84"
      ]
     },
     "metadata": {},
     "output_type": "display_data"
    },
    {
     "data": {
      "text/markdown": [
       "**Train tst - Metrics values (avg) values:**"
      ],
      "text/plain": [
       "<IPython.core.display.Markdown object>"
      ]
     },
     "metadata": {},
     "output_type": "display_data"
    },
    {
     "data": {
      "text/html": [
       "<div>\n",
       "<style scoped>\n",
       "    .dataframe tbody tr th:only-of-type {\n",
       "        vertical-align: middle;\n",
       "    }\n",
       "\n",
       "    .dataframe tbody tr th {\n",
       "        vertical-align: top;\n",
       "    }\n",
       "\n",
       "    .dataframe thead th {\n",
       "        text-align: right;\n",
       "    }\n",
       "</style>\n",
       "<table border=\"1\" class=\"dataframe\">\n",
       "  <thead>\n",
       "    <tr style=\"text-align: right;\">\n",
       "      <th></th>\n",
       "      <th>FPR</th>\n",
       "      <th>FNR</th>\n",
       "      <th>TNR</th>\n",
       "      <th>NPV</th>\n",
       "      <th>FDR</th>\n",
       "      <th>Recall</th>\n",
       "      <th>Precision</th>\n",
       "      <th>Accuracy</th>\n",
       "    </tr>\n",
       "  </thead>\n",
       "  <tbody>\n",
       "    <tr>\n",
       "      <th>value</th>\n",
       "      <td>0.24</td>\n",
       "      <td>0.15</td>\n",
       "      <td>0.76</td>\n",
       "      <td>0.84</td>\n",
       "      <td>0.23</td>\n",
       "      <td>0.85</td>\n",
       "      <td>0.77</td>\n",
       "      <td>0.80</td>\n",
       "    </tr>\n",
       "  </tbody>\n",
       "</table>\n",
       "</div>"
      ],
      "text/plain": [
       "       FPR  FNR  TNR  NPV  FDR  Recall  Precision  Accuracy\n",
       "value 0.24 0.15 0.76 0.84 0.23    0.85       0.77      0.80"
      ]
     },
     "metadata": {},
     "output_type": "display_data"
    },
    {
     "data": {
      "text/markdown": [
       "**Result of the last updated prediction:**"
      ],
      "text/plain": [
       "<IPython.core.display.Markdown object>"
      ]
     },
     "metadata": {},
     "output_type": "display_data"
    },
    {
     "name": "stdout",
     "output_type": "stream",
     "text": [
      "TRUE: Sim[1]=   994  Não[0]=  1058 ratio(S/N)=0.94 Total=  2052\n",
      "PRED: Sim[1]=  1104  Não[0]=   948 ratio(S/N)=1.16 Total=  2052\n",
      "prediction_summary: cm\n"
     ]
    },
    {
     "data": {
      "text/markdown": [
       "Accuracy: 0.80"
      ],
      "text/plain": [
       "<IPython.core.display.Markdown object>"
      ]
     },
     "metadata": {},
     "output_type": "display_data"
    },
    {
     "data": {
      "text/markdown": [
       "**Prediction Summary:**"
      ],
      "text/plain": [
       "<IPython.core.display.Markdown object>"
      ]
     },
     "metadata": {},
     "output_type": "display_data"
    },
    {
     "name": "stdout",
     "output_type": "stream",
     "text": [
      "Confusion matrix: (literature format)\n",
      "     1    0\n",
      "1  841  263\n",
      "0  153  795\n",
      "              precision    recall  f1-score   support\n",
      "\n",
      "         0.0       0.84      0.75      0.79      1058\n",
      "         1.0       0.76      0.85      0.80       994\n",
      "\n",
      "   micro avg       0.80      0.80      0.80      2052\n",
      "   macro avg       0.80      0.80      0.80      2052\n",
      "weighted avg       0.80      0.80      0.80      2052\n",
      "\n"
     ]
    },
    {
     "data": {
      "text/markdown": [
       "\n",
       "---\n"
      ],
      "text/plain": [
       "<IPython.core.display.Markdown object>"
      ]
     },
     "metadata": {},
     "output_type": "display_data"
    },
    {
     "data": {
      "text/markdown": [
       "**Fold 2**"
      ],
      "text/plain": [
       "<IPython.core.display.Markdown object>"
      ]
     },
     "metadata": {},
     "output_type": "display_data"
    },
    {
     "name": "stdout",
     "output_type": "stream",
     "text": [
      "trn_ids=8208 (80.00%) tst_ids=2052 (20.00%)\n",
      "Training model during 500 epochs ...\n",
      "Saving figure to file nn_training_fold_2.png\n",
      "Fold 2 performance and last test set prediction result:\n"
     ]
    },
    {
     "data": {
      "text/markdown": [
       "**Train trn - Metrics values (avg) values:**"
      ],
      "text/plain": [
       "<IPython.core.display.Markdown object>"
      ]
     },
     "metadata": {},
     "output_type": "display_data"
    },
    {
     "data": {
      "text/html": [
       "<div>\n",
       "<style scoped>\n",
       "    .dataframe tbody tr th:only-of-type {\n",
       "        vertical-align: middle;\n",
       "    }\n",
       "\n",
       "    .dataframe tbody tr th {\n",
       "        vertical-align: top;\n",
       "    }\n",
       "\n",
       "    .dataframe thead th {\n",
       "        text-align: right;\n",
       "    }\n",
       "</style>\n",
       "<table border=\"1\" class=\"dataframe\">\n",
       "  <thead>\n",
       "    <tr style=\"text-align: right;\">\n",
       "      <th></th>\n",
       "      <th>FPR</th>\n",
       "      <th>FNR</th>\n",
       "      <th>TNR</th>\n",
       "      <th>NPV</th>\n",
       "      <th>FDR</th>\n",
       "      <th>Recall</th>\n",
       "      <th>Precision</th>\n",
       "      <th>Accuracy</th>\n",
       "    </tr>\n",
       "  </thead>\n",
       "  <tbody>\n",
       "    <tr>\n",
       "      <th>value</th>\n",
       "      <td>0.20</td>\n",
       "      <td>0.11</td>\n",
       "      <td>0.80</td>\n",
       "      <td>0.88</td>\n",
       "      <td>0.19</td>\n",
       "      <td>0.89</td>\n",
       "      <td>0.81</td>\n",
       "      <td>0.85</td>\n",
       "    </tr>\n",
       "  </tbody>\n",
       "</table>\n",
       "</div>"
      ],
      "text/plain": [
       "       FPR  FNR  TNR  NPV  FDR  Recall  Precision  Accuracy\n",
       "value 0.20 0.11 0.80 0.88 0.19    0.89       0.81      0.85"
      ]
     },
     "metadata": {},
     "output_type": "display_data"
    },
    {
     "data": {
      "text/markdown": [
       "**Train tst - Metrics values (avg) values:**"
      ],
      "text/plain": [
       "<IPython.core.display.Markdown object>"
      ]
     },
     "metadata": {},
     "output_type": "display_data"
    },
    {
     "data": {
      "text/html": [
       "<div>\n",
       "<style scoped>\n",
       "    .dataframe tbody tr th:only-of-type {\n",
       "        vertical-align: middle;\n",
       "    }\n",
       "\n",
       "    .dataframe tbody tr th {\n",
       "        vertical-align: top;\n",
       "    }\n",
       "\n",
       "    .dataframe thead th {\n",
       "        text-align: right;\n",
       "    }\n",
       "</style>\n",
       "<table border=\"1\" class=\"dataframe\">\n",
       "  <thead>\n",
       "    <tr style=\"text-align: right;\">\n",
       "      <th></th>\n",
       "      <th>FPR</th>\n",
       "      <th>FNR</th>\n",
       "      <th>TNR</th>\n",
       "      <th>NPV</th>\n",
       "      <th>FDR</th>\n",
       "      <th>Recall</th>\n",
       "      <th>Precision</th>\n",
       "      <th>Accuracy</th>\n",
       "    </tr>\n",
       "  </thead>\n",
       "  <tbody>\n",
       "    <tr>\n",
       "      <th>value</th>\n",
       "      <td>0.26</td>\n",
       "      <td>0.18</td>\n",
       "      <td>0.74</td>\n",
       "      <td>0.80</td>\n",
       "      <td>0.23</td>\n",
       "      <td>0.82</td>\n",
       "      <td>0.77</td>\n",
       "      <td>0.78</td>\n",
       "    </tr>\n",
       "  </tbody>\n",
       "</table>\n",
       "</div>"
      ],
      "text/plain": [
       "       FPR  FNR  TNR  NPV  FDR  Recall  Precision  Accuracy\n",
       "value 0.26 0.18 0.74 0.80 0.23    0.82       0.77      0.78"
      ]
     },
     "metadata": {},
     "output_type": "display_data"
    },
    {
     "data": {
      "text/markdown": [
       "**Result of the last updated prediction:**"
      ],
      "text/plain": [
       "<IPython.core.display.Markdown object>"
      ]
     },
     "metadata": {},
     "output_type": "display_data"
    },
    {
     "name": "stdout",
     "output_type": "stream",
     "text": [
      "TRUE: Sim[1]=  1062  Não[0]=   990 ratio(S/N)=1.07 Total=  2052\n",
      "PRED: Sim[1]=  1101  Não[0]=   951 ratio(S/N)=1.16 Total=  2052\n",
      "prediction_summary: cm\n"
     ]
    },
    {
     "data": {
      "text/markdown": [
       "Accuracy: 0.77"
      ],
      "text/plain": [
       "<IPython.core.display.Markdown object>"
      ]
     },
     "metadata": {},
     "output_type": "display_data"
    },
    {
     "data": {
      "text/markdown": [
       "**Prediction Summary:**"
      ],
      "text/plain": [
       "<IPython.core.display.Markdown object>"
      ]
     },
     "metadata": {},
     "output_type": "display_data"
    },
    {
     "name": "stdout",
     "output_type": "stream",
     "text": [
      "Confusion matrix: (literature format)\n",
      "     1    0\n",
      "1  845  256\n",
      "0  217  734\n",
      "              precision    recall  f1-score   support\n",
      "\n",
      "         0.0       0.77      0.74      0.76       990\n",
      "         1.0       0.77      0.80      0.78      1062\n",
      "\n",
      "   micro avg       0.77      0.77      0.77      2052\n",
      "   macro avg       0.77      0.77      0.77      2052\n",
      "weighted avg       0.77      0.77      0.77      2052\n",
      "\n"
     ]
    },
    {
     "data": {
      "text/markdown": [
       "\n",
       "---\n"
      ],
      "text/plain": [
       "<IPython.core.display.Markdown object>"
      ]
     },
     "metadata": {},
     "output_type": "display_data"
    },
    {
     "data": {
      "text/markdown": [
       "**Fold 3**"
      ],
      "text/plain": [
       "<IPython.core.display.Markdown object>"
      ]
     },
     "metadata": {},
     "output_type": "display_data"
    },
    {
     "name": "stdout",
     "output_type": "stream",
     "text": [
      "trn_ids=8208 (80.00%) tst_ids=2052 (20.00%)\n",
      "Training model during 500 epochs ...\n",
      "Saving figure to file nn_training_fold_3.png\n",
      "Fold 3 performance and last test set prediction result:\n"
     ]
    },
    {
     "data": {
      "text/markdown": [
       "**Train trn - Metrics values (avg) values:**"
      ],
      "text/plain": [
       "<IPython.core.display.Markdown object>"
      ]
     },
     "metadata": {},
     "output_type": "display_data"
    },
    {
     "data": {
      "text/html": [
       "<div>\n",
       "<style scoped>\n",
       "    .dataframe tbody tr th:only-of-type {\n",
       "        vertical-align: middle;\n",
       "    }\n",
       "\n",
       "    .dataframe tbody tr th {\n",
       "        vertical-align: top;\n",
       "    }\n",
       "\n",
       "    .dataframe thead th {\n",
       "        text-align: right;\n",
       "    }\n",
       "</style>\n",
       "<table border=\"1\" class=\"dataframe\">\n",
       "  <thead>\n",
       "    <tr style=\"text-align: right;\">\n",
       "      <th></th>\n",
       "      <th>FPR</th>\n",
       "      <th>FNR</th>\n",
       "      <th>TNR</th>\n",
       "      <th>NPV</th>\n",
       "      <th>FDR</th>\n",
       "      <th>Recall</th>\n",
       "      <th>Precision</th>\n",
       "      <th>Accuracy</th>\n",
       "    </tr>\n",
       "  </thead>\n",
       "  <tbody>\n",
       "    <tr>\n",
       "      <th>value</th>\n",
       "      <td>0.20</td>\n",
       "      <td>0.13</td>\n",
       "      <td>0.80</td>\n",
       "      <td>0.86</td>\n",
       "      <td>0.18</td>\n",
       "      <td>0.87</td>\n",
       "      <td>0.82</td>\n",
       "      <td>0.84</td>\n",
       "    </tr>\n",
       "  </tbody>\n",
       "</table>\n",
       "</div>"
      ],
      "text/plain": [
       "       FPR  FNR  TNR  NPV  FDR  Recall  Precision  Accuracy\n",
       "value 0.20 0.13 0.80 0.86 0.18    0.87       0.82      0.84"
      ]
     },
     "metadata": {},
     "output_type": "display_data"
    },
    {
     "data": {
      "text/markdown": [
       "**Train tst - Metrics values (avg) values:**"
      ],
      "text/plain": [
       "<IPython.core.display.Markdown object>"
      ]
     },
     "metadata": {},
     "output_type": "display_data"
    },
    {
     "data": {
      "text/html": [
       "<div>\n",
       "<style scoped>\n",
       "    .dataframe tbody tr th:only-of-type {\n",
       "        vertical-align: middle;\n",
       "    }\n",
       "\n",
       "    .dataframe tbody tr th {\n",
       "        vertical-align: top;\n",
       "    }\n",
       "\n",
       "    .dataframe thead th {\n",
       "        text-align: right;\n",
       "    }\n",
       "</style>\n",
       "<table border=\"1\" class=\"dataframe\">\n",
       "  <thead>\n",
       "    <tr style=\"text-align: right;\">\n",
       "      <th></th>\n",
       "      <th>FPR</th>\n",
       "      <th>FNR</th>\n",
       "      <th>TNR</th>\n",
       "      <th>NPV</th>\n",
       "      <th>FDR</th>\n",
       "      <th>Recall</th>\n",
       "      <th>Precision</th>\n",
       "      <th>Accuracy</th>\n",
       "    </tr>\n",
       "  </thead>\n",
       "  <tbody>\n",
       "    <tr>\n",
       "      <th>value</th>\n",
       "      <td>0.25</td>\n",
       "      <td>0.16</td>\n",
       "      <td>0.75</td>\n",
       "      <td>0.82</td>\n",
       "      <td>0.23</td>\n",
       "      <td>0.84</td>\n",
       "      <td>0.77</td>\n",
       "      <td>0.80</td>\n",
       "    </tr>\n",
       "  </tbody>\n",
       "</table>\n",
       "</div>"
      ],
      "text/plain": [
       "       FPR  FNR  TNR  NPV  FDR  Recall  Precision  Accuracy\n",
       "value 0.25 0.16 0.75 0.82 0.23    0.84       0.77      0.80"
      ]
     },
     "metadata": {},
     "output_type": "display_data"
    },
    {
     "data": {
      "text/markdown": [
       "**Result of the last updated prediction:**"
      ],
      "text/plain": [
       "<IPython.core.display.Markdown object>"
      ]
     },
     "metadata": {},
     "output_type": "display_data"
    },
    {
     "name": "stdout",
     "output_type": "stream",
     "text": [
      "TRUE: Sim[1]=  1029  Não[0]=  1023 ratio(S/N)=1.01 Total=  2052\n",
      "PRED: Sim[1]=  1095  Não[0]=   957 ratio(S/N)=1.14 Total=  2052\n",
      "prediction_summary: cm\n"
     ]
    },
    {
     "data": {
      "text/markdown": [
       "Accuracy: 0.79"
      ],
      "text/plain": [
       "<IPython.core.display.Markdown object>"
      ]
     },
     "metadata": {},
     "output_type": "display_data"
    },
    {
     "data": {
      "text/markdown": [
       "**Prediction Summary:**"
      ],
      "text/plain": [
       "<IPython.core.display.Markdown object>"
      ]
     },
     "metadata": {},
     "output_type": "display_data"
    },
    {
     "name": "stdout",
     "output_type": "stream",
     "text": [
      "Confusion matrix: (literature format)\n",
      "     1    0\n",
      "1  850  245\n",
      "0  179  778\n",
      "              precision    recall  f1-score   support\n",
      "\n",
      "         0.0       0.81      0.76      0.79      1023\n",
      "         1.0       0.78      0.83      0.80      1029\n",
      "\n",
      "   micro avg       0.79      0.79      0.79      2052\n",
      "   macro avg       0.79      0.79      0.79      2052\n",
      "weighted avg       0.79      0.79      0.79      2052\n",
      "\n"
     ]
    },
    {
     "data": {
      "text/markdown": [
       "\n",
       "---\n"
      ],
      "text/plain": [
       "<IPython.core.display.Markdown object>"
      ]
     },
     "metadata": {},
     "output_type": "display_data"
    },
    {
     "data": {
      "text/markdown": [
       "**Fold 4**"
      ],
      "text/plain": [
       "<IPython.core.display.Markdown object>"
      ]
     },
     "metadata": {},
     "output_type": "display_data"
    },
    {
     "name": "stdout",
     "output_type": "stream",
     "text": [
      "trn_ids=8208 (80.00%) tst_ids=2052 (20.00%)\n",
      "Training model during 500 epochs ...\n",
      "Saving figure to file nn_training_fold_4.png\n",
      "Fold 4 performance and last test set prediction result:\n"
     ]
    },
    {
     "data": {
      "text/markdown": [
       "**Train trn - Metrics values (avg) values:**"
      ],
      "text/plain": [
       "<IPython.core.display.Markdown object>"
      ]
     },
     "metadata": {},
     "output_type": "display_data"
    },
    {
     "data": {
      "text/html": [
       "<div>\n",
       "<style scoped>\n",
       "    .dataframe tbody tr th:only-of-type {\n",
       "        vertical-align: middle;\n",
       "    }\n",
       "\n",
       "    .dataframe tbody tr th {\n",
       "        vertical-align: top;\n",
       "    }\n",
       "\n",
       "    .dataframe thead th {\n",
       "        text-align: right;\n",
       "    }\n",
       "</style>\n",
       "<table border=\"1\" class=\"dataframe\">\n",
       "  <thead>\n",
       "    <tr style=\"text-align: right;\">\n",
       "      <th></th>\n",
       "      <th>FPR</th>\n",
       "      <th>FNR</th>\n",
       "      <th>TNR</th>\n",
       "      <th>NPV</th>\n",
       "      <th>FDR</th>\n",
       "      <th>Recall</th>\n",
       "      <th>Precision</th>\n",
       "      <th>Accuracy</th>\n",
       "    </tr>\n",
       "  </thead>\n",
       "  <tbody>\n",
       "    <tr>\n",
       "      <th>value</th>\n",
       "      <td>0.21</td>\n",
       "      <td>0.12</td>\n",
       "      <td>0.79</td>\n",
       "      <td>0.87</td>\n",
       "      <td>0.19</td>\n",
       "      <td>0.88</td>\n",
       "      <td>0.81</td>\n",
       "      <td>0.83</td>\n",
       "    </tr>\n",
       "  </tbody>\n",
       "</table>\n",
       "</div>"
      ],
      "text/plain": [
       "       FPR  FNR  TNR  NPV  FDR  Recall  Precision  Accuracy\n",
       "value 0.21 0.12 0.79 0.87 0.19    0.88       0.81      0.83"
      ]
     },
     "metadata": {},
     "output_type": "display_data"
    },
    {
     "data": {
      "text/markdown": [
       "**Train tst - Metrics values (avg) values:**"
      ],
      "text/plain": [
       "<IPython.core.display.Markdown object>"
      ]
     },
     "metadata": {},
     "output_type": "display_data"
    },
    {
     "data": {
      "text/html": [
       "<div>\n",
       "<style scoped>\n",
       "    .dataframe tbody tr th:only-of-type {\n",
       "        vertical-align: middle;\n",
       "    }\n",
       "\n",
       "    .dataframe tbody tr th {\n",
       "        vertical-align: top;\n",
       "    }\n",
       "\n",
       "    .dataframe thead th {\n",
       "        text-align: right;\n",
       "    }\n",
       "</style>\n",
       "<table border=\"1\" class=\"dataframe\">\n",
       "  <thead>\n",
       "    <tr style=\"text-align: right;\">\n",
       "      <th></th>\n",
       "      <th>FPR</th>\n",
       "      <th>FNR</th>\n",
       "      <th>TNR</th>\n",
       "      <th>NPV</th>\n",
       "      <th>FDR</th>\n",
       "      <th>Recall</th>\n",
       "      <th>Precision</th>\n",
       "      <th>Accuracy</th>\n",
       "    </tr>\n",
       "  </thead>\n",
       "  <tbody>\n",
       "    <tr>\n",
       "      <th>value</th>\n",
       "      <td>0.24</td>\n",
       "      <td>0.14</td>\n",
       "      <td>0.76</td>\n",
       "      <td>0.85</td>\n",
       "      <td>0.22</td>\n",
       "      <td>0.86</td>\n",
       "      <td>0.78</td>\n",
       "      <td>0.81</td>\n",
       "    </tr>\n",
       "  </tbody>\n",
       "</table>\n",
       "</div>"
      ],
      "text/plain": [
       "       FPR  FNR  TNR  NPV  FDR  Recall  Precision  Accuracy\n",
       "value 0.24 0.14 0.76 0.85 0.22    0.86       0.78      0.81"
      ]
     },
     "metadata": {},
     "output_type": "display_data"
    },
    {
     "data": {
      "text/markdown": [
       "**Result of the last updated prediction:**"
      ],
      "text/plain": [
       "<IPython.core.display.Markdown object>"
      ]
     },
     "metadata": {},
     "output_type": "display_data"
    },
    {
     "name": "stdout",
     "output_type": "stream",
     "text": [
      "TRUE: Sim[1]=  1009  Não[0]=  1043 ratio(S/N)=0.97 Total=  2052\n",
      "PRED: Sim[1]=  1071  Não[0]=   981 ratio(S/N)=1.09 Total=  2052\n",
      "prediction_summary: cm\n"
     ]
    },
    {
     "data": {
      "text/markdown": [
       "Accuracy: 0.81"
      ],
      "text/plain": [
       "<IPython.core.display.Markdown object>"
      ]
     },
     "metadata": {},
     "output_type": "display_data"
    },
    {
     "data": {
      "text/markdown": [
       "**Prediction Summary:**"
      ],
      "text/plain": [
       "<IPython.core.display.Markdown object>"
      ]
     },
     "metadata": {},
     "output_type": "display_data"
    },
    {
     "name": "stdout",
     "output_type": "stream",
     "text": [
      "Confusion matrix: (literature format)\n",
      "     1    0\n",
      "1  845  226\n",
      "0  164  817\n",
      "              precision    recall  f1-score   support\n",
      "\n",
      "         0.0       0.83      0.78      0.81      1043\n",
      "         1.0       0.79      0.84      0.81      1009\n",
      "\n",
      "   micro avg       0.81      0.81      0.81      2052\n",
      "   macro avg       0.81      0.81      0.81      2052\n",
      "weighted avg       0.81      0.81      0.81      2052\n",
      "\n"
     ]
    },
    {
     "data": {
      "text/markdown": [
       "\n",
       "---\n"
      ],
      "text/plain": [
       "<IPython.core.display.Markdown object>"
      ]
     },
     "metadata": {},
     "output_type": "display_data"
    },
    {
     "data": {
      "text/markdown": [
       "**Fold 5**"
      ],
      "text/plain": [
       "<IPython.core.display.Markdown object>"
      ]
     },
     "metadata": {},
     "output_type": "display_data"
    },
    {
     "name": "stdout",
     "output_type": "stream",
     "text": [
      "trn_ids=8208 (80.00%) tst_ids=2052 (20.00%)\n",
      "Training model during 500 epochs ...\n",
      "Saving figure to file nn_training_fold_5.png\n",
      "Fold 5 performance and last test set prediction result:\n"
     ]
    },
    {
     "data": {
      "text/markdown": [
       "**Train trn - Metrics values (avg) values:**"
      ],
      "text/plain": [
       "<IPython.core.display.Markdown object>"
      ]
     },
     "metadata": {},
     "output_type": "display_data"
    },
    {
     "data": {
      "text/html": [
       "<div>\n",
       "<style scoped>\n",
       "    .dataframe tbody tr th:only-of-type {\n",
       "        vertical-align: middle;\n",
       "    }\n",
       "\n",
       "    .dataframe tbody tr th {\n",
       "        vertical-align: top;\n",
       "    }\n",
       "\n",
       "    .dataframe thead th {\n",
       "        text-align: right;\n",
       "    }\n",
       "</style>\n",
       "<table border=\"1\" class=\"dataframe\">\n",
       "  <thead>\n",
       "    <tr style=\"text-align: right;\">\n",
       "      <th></th>\n",
       "      <th>FPR</th>\n",
       "      <th>FNR</th>\n",
       "      <th>TNR</th>\n",
       "      <th>NPV</th>\n",
       "      <th>FDR</th>\n",
       "      <th>Recall</th>\n",
       "      <th>Precision</th>\n",
       "      <th>Accuracy</th>\n",
       "    </tr>\n",
       "  </thead>\n",
       "  <tbody>\n",
       "    <tr>\n",
       "      <th>value</th>\n",
       "      <td>0.19</td>\n",
       "      <td>0.12</td>\n",
       "      <td>0.81</td>\n",
       "      <td>0.87</td>\n",
       "      <td>0.18</td>\n",
       "      <td>0.88</td>\n",
       "      <td>0.82</td>\n",
       "      <td>0.84</td>\n",
       "    </tr>\n",
       "  </tbody>\n",
       "</table>\n",
       "</div>"
      ],
      "text/plain": [
       "       FPR  FNR  TNR  NPV  FDR  Recall  Precision  Accuracy\n",
       "value 0.19 0.12 0.81 0.87 0.18    0.88       0.82      0.84"
      ]
     },
     "metadata": {},
     "output_type": "display_data"
    },
    {
     "data": {
      "text/markdown": [
       "**Train tst - Metrics values (avg) values:**"
      ],
      "text/plain": [
       "<IPython.core.display.Markdown object>"
      ]
     },
     "metadata": {},
     "output_type": "display_data"
    },
    {
     "data": {
      "text/html": [
       "<div>\n",
       "<style scoped>\n",
       "    .dataframe tbody tr th:only-of-type {\n",
       "        vertical-align: middle;\n",
       "    }\n",
       "\n",
       "    .dataframe tbody tr th {\n",
       "        vertical-align: top;\n",
       "    }\n",
       "\n",
       "    .dataframe thead th {\n",
       "        text-align: right;\n",
       "    }\n",
       "</style>\n",
       "<table border=\"1\" class=\"dataframe\">\n",
       "  <thead>\n",
       "    <tr style=\"text-align: right;\">\n",
       "      <th></th>\n",
       "      <th>FPR</th>\n",
       "      <th>FNR</th>\n",
       "      <th>TNR</th>\n",
       "      <th>NPV</th>\n",
       "      <th>FDR</th>\n",
       "      <th>Recall</th>\n",
       "      <th>Precision</th>\n",
       "      <th>Accuracy</th>\n",
       "    </tr>\n",
       "  </thead>\n",
       "  <tbody>\n",
       "    <tr>\n",
       "      <th>value</th>\n",
       "      <td>0.24</td>\n",
       "      <td>0.16</td>\n",
       "      <td>0.76</td>\n",
       "      <td>0.83</td>\n",
       "      <td>0.22</td>\n",
       "      <td>0.84</td>\n",
       "      <td>0.78</td>\n",
       "      <td>0.80</td>\n",
       "    </tr>\n",
       "  </tbody>\n",
       "</table>\n",
       "</div>"
      ],
      "text/plain": [
       "       FPR  FNR  TNR  NPV  FDR  Recall  Precision  Accuracy\n",
       "value 0.24 0.16 0.76 0.83 0.22    0.84       0.78      0.80"
      ]
     },
     "metadata": {},
     "output_type": "display_data"
    },
    {
     "data": {
      "text/markdown": [
       "**Result of the last updated prediction:**"
      ],
      "text/plain": [
       "<IPython.core.display.Markdown object>"
      ]
     },
     "metadata": {},
     "output_type": "display_data"
    },
    {
     "name": "stdout",
     "output_type": "stream",
     "text": [
      "TRUE: Sim[1]=  1036  Não[0]=  1016 ratio(S/N)=1.02 Total=  2052\n",
      "PRED: Sim[1]=  1108  Não[0]=   944 ratio(S/N)=1.17 Total=  2052\n",
      "prediction_summary: cm\n"
     ]
    },
    {
     "data": {
      "text/markdown": [
       "Accuracy: 0.80"
      ],
      "text/plain": [
       "<IPython.core.display.Markdown object>"
      ]
     },
     "metadata": {},
     "output_type": "display_data"
    },
    {
     "data": {
      "text/markdown": [
       "**Prediction Summary:**"
      ],
      "text/plain": [
       "<IPython.core.display.Markdown object>"
      ]
     },
     "metadata": {},
     "output_type": "display_data"
    },
    {
     "name": "stdout",
     "output_type": "stream",
     "text": [
      "Confusion matrix: (literature format)\n",
      "     1    0\n",
      "1  871  237\n",
      "0  165  779\n",
      "              precision    recall  f1-score   support\n",
      "\n",
      "         0.0       0.83      0.77      0.79      1016\n",
      "         1.0       0.79      0.84      0.81      1036\n",
      "\n",
      "   micro avg       0.80      0.80      0.80      2052\n",
      "   macro avg       0.81      0.80      0.80      2052\n",
      "weighted avg       0.81      0.80      0.80      2052\n",
      "\n"
     ]
    },
    {
     "data": {
      "text/markdown": [
       "\n",
       "---\n"
      ],
      "text/plain": [
       "<IPython.core.display.Markdown object>"
      ]
     },
     "metadata": {},
     "output_type": "display_data"
    },
    {
     "data": {
      "text/markdown": [
       "**Folds overall performance:**"
      ],
      "text/plain": [
       "<IPython.core.display.Markdown object>"
      ]
     },
     "metadata": {},
     "output_type": "display_data"
    },
    {
     "name": "stdout",
     "output_type": "stream",
     "text": [
      "Folds trn - Metrics summary:\n"
     ]
    },
    {
     "data": {
      "text/html": [
       "<div>\n",
       "<style scoped>\n",
       "    .dataframe tbody tr th:only-of-type {\n",
       "        vertical-align: middle;\n",
       "    }\n",
       "\n",
       "    .dataframe tbody tr th {\n",
       "        vertical-align: top;\n",
       "    }\n",
       "\n",
       "    .dataframe thead th {\n",
       "        text-align: right;\n",
       "    }\n",
       "</style>\n",
       "<table border=\"1\" class=\"dataframe\">\n",
       "  <thead>\n",
       "    <tr style=\"text-align: right;\">\n",
       "      <th></th>\n",
       "      <th>FPR</th>\n",
       "      <th>FNR</th>\n",
       "      <th>TNR</th>\n",
       "      <th>NPV</th>\n",
       "      <th>FDR</th>\n",
       "      <th>Recall</th>\n",
       "      <th>Precision</th>\n",
       "      <th>Accuracy</th>\n",
       "    </tr>\n",
       "  </thead>\n",
       "  <tbody>\n",
       "    <tr>\n",
       "      <th>count</th>\n",
       "      <td>5.00</td>\n",
       "      <td>5.00</td>\n",
       "      <td>5.00</td>\n",
       "      <td>5.00</td>\n",
       "      <td>5.00</td>\n",
       "      <td>5.00</td>\n",
       "      <td>5.00</td>\n",
       "      <td>5.00</td>\n",
       "    </tr>\n",
       "    <tr>\n",
       "      <th>mean</th>\n",
       "      <td>0.20</td>\n",
       "      <td>0.12</td>\n",
       "      <td>0.80</td>\n",
       "      <td>0.87</td>\n",
       "      <td>0.19</td>\n",
       "      <td>0.88</td>\n",
       "      <td>0.81</td>\n",
       "      <td>0.84</td>\n",
       "    </tr>\n",
       "    <tr>\n",
       "      <th>std</th>\n",
       "      <td>0.01</td>\n",
       "      <td>0.01</td>\n",
       "      <td>0.01</td>\n",
       "      <td>0.01</td>\n",
       "      <td>0.01</td>\n",
       "      <td>0.01</td>\n",
       "      <td>0.01</td>\n",
       "      <td>0.00</td>\n",
       "    </tr>\n",
       "    <tr>\n",
       "      <th>min</th>\n",
       "      <td>0.19</td>\n",
       "      <td>0.11</td>\n",
       "      <td>0.79</td>\n",
       "      <td>0.86</td>\n",
       "      <td>0.18</td>\n",
       "      <td>0.87</td>\n",
       "      <td>0.81</td>\n",
       "      <td>0.83</td>\n",
       "    </tr>\n",
       "    <tr>\n",
       "      <th>25%</th>\n",
       "      <td>0.20</td>\n",
       "      <td>0.11</td>\n",
       "      <td>0.79</td>\n",
       "      <td>0.87</td>\n",
       "      <td>0.18</td>\n",
       "      <td>0.88</td>\n",
       "      <td>0.81</td>\n",
       "      <td>0.84</td>\n",
       "    </tr>\n",
       "    <tr>\n",
       "      <th>50%</th>\n",
       "      <td>0.20</td>\n",
       "      <td>0.12</td>\n",
       "      <td>0.80</td>\n",
       "      <td>0.87</td>\n",
       "      <td>0.19</td>\n",
       "      <td>0.88</td>\n",
       "      <td>0.81</td>\n",
       "      <td>0.84</td>\n",
       "    </tr>\n",
       "    <tr>\n",
       "      <th>75%</th>\n",
       "      <td>0.21</td>\n",
       "      <td>0.12</td>\n",
       "      <td>0.80</td>\n",
       "      <td>0.88</td>\n",
       "      <td>0.19</td>\n",
       "      <td>0.89</td>\n",
       "      <td>0.82</td>\n",
       "      <td>0.84</td>\n",
       "    </tr>\n",
       "    <tr>\n",
       "      <th>max</th>\n",
       "      <td>0.21</td>\n",
       "      <td>0.13</td>\n",
       "      <td>0.81</td>\n",
       "      <td>0.88</td>\n",
       "      <td>0.19</td>\n",
       "      <td>0.89</td>\n",
       "      <td>0.82</td>\n",
       "      <td>0.85</td>\n",
       "    </tr>\n",
       "  </tbody>\n",
       "</table>\n",
       "</div>"
      ],
      "text/plain": [
       "       FPR  FNR  TNR  NPV  FDR  Recall  Precision  Accuracy\n",
       "count 5.00 5.00 5.00 5.00 5.00    5.00       5.00      5.00\n",
       "mean  0.20 0.12 0.80 0.87 0.19    0.88       0.81      0.84\n",
       "std   0.01 0.01 0.01 0.01 0.01    0.01       0.01      0.00\n",
       "min   0.19 0.11 0.79 0.86 0.18    0.87       0.81      0.83\n",
       "25%   0.20 0.11 0.79 0.87 0.18    0.88       0.81      0.84\n",
       "50%   0.20 0.12 0.80 0.87 0.19    0.88       0.81      0.84\n",
       "75%   0.21 0.12 0.80 0.88 0.19    0.89       0.82      0.84\n",
       "max   0.21 0.13 0.81 0.88 0.19    0.89       0.82      0.85"
      ]
     },
     "metadata": {},
     "output_type": "display_data"
    },
    {
     "name": "stdout",
     "output_type": "stream",
     "text": [
      "Folds trn - Metrics history:\n"
     ]
    },
    {
     "data": {
      "text/html": [
       "<div>\n",
       "<style scoped>\n",
       "    .dataframe tbody tr th:only-of-type {\n",
       "        vertical-align: middle;\n",
       "    }\n",
       "\n",
       "    .dataframe tbody tr th {\n",
       "        vertical-align: top;\n",
       "    }\n",
       "\n",
       "    .dataframe thead th {\n",
       "        text-align: right;\n",
       "    }\n",
       "</style>\n",
       "<table border=\"1\" class=\"dataframe\">\n",
       "  <thead>\n",
       "    <tr style=\"text-align: right;\">\n",
       "      <th></th>\n",
       "      <th>FPR</th>\n",
       "      <th>FNR</th>\n",
       "      <th>TNR</th>\n",
       "      <th>NPV</th>\n",
       "      <th>FDR</th>\n",
       "      <th>Recall</th>\n",
       "      <th>Precision</th>\n",
       "      <th>Accuracy</th>\n",
       "    </tr>\n",
       "    <tr>\n",
       "      <th>fold</th>\n",
       "      <th></th>\n",
       "      <th></th>\n",
       "      <th></th>\n",
       "      <th></th>\n",
       "      <th></th>\n",
       "      <th></th>\n",
       "      <th></th>\n",
       "      <th></th>\n",
       "    </tr>\n",
       "  </thead>\n",
       "  <tbody>\n",
       "    <tr>\n",
       "      <th>1</th>\n",
       "      <td>0.21</td>\n",
       "      <td>0.11</td>\n",
       "      <td>0.79</td>\n",
       "      <td>0.88</td>\n",
       "      <td>0.19</td>\n",
       "      <td>0.89</td>\n",
       "      <td>0.81</td>\n",
       "      <td>0.84</td>\n",
       "    </tr>\n",
       "    <tr>\n",
       "      <th>2</th>\n",
       "      <td>0.20</td>\n",
       "      <td>0.11</td>\n",
       "      <td>0.80</td>\n",
       "      <td>0.88</td>\n",
       "      <td>0.19</td>\n",
       "      <td>0.89</td>\n",
       "      <td>0.81</td>\n",
       "      <td>0.85</td>\n",
       "    </tr>\n",
       "    <tr>\n",
       "      <th>3</th>\n",
       "      <td>0.20</td>\n",
       "      <td>0.13</td>\n",
       "      <td>0.80</td>\n",
       "      <td>0.86</td>\n",
       "      <td>0.18</td>\n",
       "      <td>0.87</td>\n",
       "      <td>0.82</td>\n",
       "      <td>0.84</td>\n",
       "    </tr>\n",
       "    <tr>\n",
       "      <th>4</th>\n",
       "      <td>0.21</td>\n",
       "      <td>0.12</td>\n",
       "      <td>0.79</td>\n",
       "      <td>0.87</td>\n",
       "      <td>0.19</td>\n",
       "      <td>0.88</td>\n",
       "      <td>0.81</td>\n",
       "      <td>0.83</td>\n",
       "    </tr>\n",
       "    <tr>\n",
       "      <th>5</th>\n",
       "      <td>0.19</td>\n",
       "      <td>0.12</td>\n",
       "      <td>0.81</td>\n",
       "      <td>0.87</td>\n",
       "      <td>0.18</td>\n",
       "      <td>0.88</td>\n",
       "      <td>0.82</td>\n",
       "      <td>0.84</td>\n",
       "    </tr>\n",
       "  </tbody>\n",
       "</table>\n",
       "</div>"
      ],
      "text/plain": [
       "      FPR  FNR  TNR  NPV  FDR  Recall  Precision  Accuracy\n",
       "fold                                                      \n",
       "1    0.21 0.11 0.79 0.88 0.19    0.89       0.81      0.84\n",
       "2    0.20 0.11 0.80 0.88 0.19    0.89       0.81      0.85\n",
       "3    0.20 0.13 0.80 0.86 0.18    0.87       0.82      0.84\n",
       "4    0.21 0.12 0.79 0.87 0.19    0.88       0.81      0.83\n",
       "5    0.19 0.12 0.81 0.87 0.18    0.88       0.82      0.84"
      ]
     },
     "metadata": {},
     "output_type": "display_data"
    },
    {
     "name": "stdout",
     "output_type": "stream",
     "text": [
      "Folds tst - Metrics summary:\n"
     ]
    },
    {
     "data": {
      "text/html": [
       "<div>\n",
       "<style scoped>\n",
       "    .dataframe tbody tr th:only-of-type {\n",
       "        vertical-align: middle;\n",
       "    }\n",
       "\n",
       "    .dataframe tbody tr th {\n",
       "        vertical-align: top;\n",
       "    }\n",
       "\n",
       "    .dataframe thead th {\n",
       "        text-align: right;\n",
       "    }\n",
       "</style>\n",
       "<table border=\"1\" class=\"dataframe\">\n",
       "  <thead>\n",
       "    <tr style=\"text-align: right;\">\n",
       "      <th></th>\n",
       "      <th>FPR</th>\n",
       "      <th>FNR</th>\n",
       "      <th>TNR</th>\n",
       "      <th>NPV</th>\n",
       "      <th>FDR</th>\n",
       "      <th>Recall</th>\n",
       "      <th>Precision</th>\n",
       "      <th>Accuracy</th>\n",
       "    </tr>\n",
       "  </thead>\n",
       "  <tbody>\n",
       "    <tr>\n",
       "      <th>count</th>\n",
       "      <td>5.00</td>\n",
       "      <td>5.00</td>\n",
       "      <td>5.00</td>\n",
       "      <td>5.00</td>\n",
       "      <td>5.00</td>\n",
       "      <td>5.00</td>\n",
       "      <td>5.00</td>\n",
       "      <td>5.00</td>\n",
       "    </tr>\n",
       "    <tr>\n",
       "      <th>mean</th>\n",
       "      <td>0.24</td>\n",
       "      <td>0.16</td>\n",
       "      <td>0.76</td>\n",
       "      <td>0.83</td>\n",
       "      <td>0.22</td>\n",
       "      <td>0.84</td>\n",
       "      <td>0.78</td>\n",
       "      <td>0.80</td>\n",
       "    </tr>\n",
       "    <tr>\n",
       "      <th>std</th>\n",
       "      <td>0.01</td>\n",
       "      <td>0.01</td>\n",
       "      <td>0.01</td>\n",
       "      <td>0.02</td>\n",
       "      <td>0.01</td>\n",
       "      <td>0.01</td>\n",
       "      <td>0.01</td>\n",
       "      <td>0.01</td>\n",
       "    </tr>\n",
       "    <tr>\n",
       "      <th>min</th>\n",
       "      <td>0.24</td>\n",
       "      <td>0.14</td>\n",
       "      <td>0.74</td>\n",
       "      <td>0.80</td>\n",
       "      <td>0.22</td>\n",
       "      <td>0.82</td>\n",
       "      <td>0.77</td>\n",
       "      <td>0.78</td>\n",
       "    </tr>\n",
       "    <tr>\n",
       "      <th>25%</th>\n",
       "      <td>0.24</td>\n",
       "      <td>0.15</td>\n",
       "      <td>0.75</td>\n",
       "      <td>0.82</td>\n",
       "      <td>0.22</td>\n",
       "      <td>0.84</td>\n",
       "      <td>0.77</td>\n",
       "      <td>0.80</td>\n",
       "    </tr>\n",
       "    <tr>\n",
       "      <th>50%</th>\n",
       "      <td>0.24</td>\n",
       "      <td>0.16</td>\n",
       "      <td>0.76</td>\n",
       "      <td>0.83</td>\n",
       "      <td>0.23</td>\n",
       "      <td>0.84</td>\n",
       "      <td>0.77</td>\n",
       "      <td>0.80</td>\n",
       "    </tr>\n",
       "    <tr>\n",
       "      <th>75%</th>\n",
       "      <td>0.25</td>\n",
       "      <td>0.16</td>\n",
       "      <td>0.76</td>\n",
       "      <td>0.84</td>\n",
       "      <td>0.23</td>\n",
       "      <td>0.85</td>\n",
       "      <td>0.78</td>\n",
       "      <td>0.80</td>\n",
       "    </tr>\n",
       "    <tr>\n",
       "      <th>max</th>\n",
       "      <td>0.26</td>\n",
       "      <td>0.18</td>\n",
       "      <td>0.76</td>\n",
       "      <td>0.85</td>\n",
       "      <td>0.23</td>\n",
       "      <td>0.86</td>\n",
       "      <td>0.78</td>\n",
       "      <td>0.81</td>\n",
       "    </tr>\n",
       "  </tbody>\n",
       "</table>\n",
       "</div>"
      ],
      "text/plain": [
       "       FPR  FNR  TNR  NPV  FDR  Recall  Precision  Accuracy\n",
       "count 5.00 5.00 5.00 5.00 5.00    5.00       5.00      5.00\n",
       "mean  0.24 0.16 0.76 0.83 0.22    0.84       0.78      0.80\n",
       "std   0.01 0.01 0.01 0.02 0.01    0.01       0.01      0.01\n",
       "min   0.24 0.14 0.74 0.80 0.22    0.82       0.77      0.78\n",
       "25%   0.24 0.15 0.75 0.82 0.22    0.84       0.77      0.80\n",
       "50%   0.24 0.16 0.76 0.83 0.23    0.84       0.77      0.80\n",
       "75%   0.25 0.16 0.76 0.84 0.23    0.85       0.78      0.80\n",
       "max   0.26 0.18 0.76 0.85 0.23    0.86       0.78      0.81"
      ]
     },
     "metadata": {},
     "output_type": "display_data"
    },
    {
     "name": "stdout",
     "output_type": "stream",
     "text": [
      "Folds tst - Metrics history:\n"
     ]
    },
    {
     "data": {
      "text/html": [
       "<div>\n",
       "<style scoped>\n",
       "    .dataframe tbody tr th:only-of-type {\n",
       "        vertical-align: middle;\n",
       "    }\n",
       "\n",
       "    .dataframe tbody tr th {\n",
       "        vertical-align: top;\n",
       "    }\n",
       "\n",
       "    .dataframe thead th {\n",
       "        text-align: right;\n",
       "    }\n",
       "</style>\n",
       "<table border=\"1\" class=\"dataframe\">\n",
       "  <thead>\n",
       "    <tr style=\"text-align: right;\">\n",
       "      <th></th>\n",
       "      <th>FPR</th>\n",
       "      <th>FNR</th>\n",
       "      <th>TNR</th>\n",
       "      <th>NPV</th>\n",
       "      <th>FDR</th>\n",
       "      <th>Recall</th>\n",
       "      <th>Precision</th>\n",
       "      <th>Accuracy</th>\n",
       "    </tr>\n",
       "    <tr>\n",
       "      <th>fold</th>\n",
       "      <th></th>\n",
       "      <th></th>\n",
       "      <th></th>\n",
       "      <th></th>\n",
       "      <th></th>\n",
       "      <th></th>\n",
       "      <th></th>\n",
       "      <th></th>\n",
       "    </tr>\n",
       "  </thead>\n",
       "  <tbody>\n",
       "    <tr>\n",
       "      <th>1</th>\n",
       "      <td>0.24</td>\n",
       "      <td>0.15</td>\n",
       "      <td>0.76</td>\n",
       "      <td>0.84</td>\n",
       "      <td>0.23</td>\n",
       "      <td>0.85</td>\n",
       "      <td>0.77</td>\n",
       "      <td>0.80</td>\n",
       "    </tr>\n",
       "    <tr>\n",
       "      <th>2</th>\n",
       "      <td>0.26</td>\n",
       "      <td>0.18</td>\n",
       "      <td>0.74</td>\n",
       "      <td>0.80</td>\n",
       "      <td>0.23</td>\n",
       "      <td>0.82</td>\n",
       "      <td>0.77</td>\n",
       "      <td>0.78</td>\n",
       "    </tr>\n",
       "    <tr>\n",
       "      <th>3</th>\n",
       "      <td>0.25</td>\n",
       "      <td>0.16</td>\n",
       "      <td>0.75</td>\n",
       "      <td>0.82</td>\n",
       "      <td>0.23</td>\n",
       "      <td>0.84</td>\n",
       "      <td>0.77</td>\n",
       "      <td>0.80</td>\n",
       "    </tr>\n",
       "    <tr>\n",
       "      <th>4</th>\n",
       "      <td>0.24</td>\n",
       "      <td>0.14</td>\n",
       "      <td>0.76</td>\n",
       "      <td>0.85</td>\n",
       "      <td>0.22</td>\n",
       "      <td>0.86</td>\n",
       "      <td>0.78</td>\n",
       "      <td>0.81</td>\n",
       "    </tr>\n",
       "    <tr>\n",
       "      <th>5</th>\n",
       "      <td>0.24</td>\n",
       "      <td>0.16</td>\n",
       "      <td>0.76</td>\n",
       "      <td>0.83</td>\n",
       "      <td>0.22</td>\n",
       "      <td>0.84</td>\n",
       "      <td>0.78</td>\n",
       "      <td>0.80</td>\n",
       "    </tr>\n",
       "  </tbody>\n",
       "</table>\n",
       "</div>"
      ],
      "text/plain": [
       "      FPR  FNR  TNR  NPV  FDR  Recall  Precision  Accuracy\n",
       "fold                                                      \n",
       "1    0.24 0.15 0.76 0.84 0.23    0.85       0.77      0.80\n",
       "2    0.26 0.18 0.74 0.80 0.23    0.82       0.77      0.78\n",
       "3    0.25 0.16 0.75 0.82 0.23    0.84       0.77      0.80\n",
       "4    0.24 0.14 0.76 0.85 0.22    0.86       0.78      0.81\n",
       "5    0.24 0.16 0.76 0.83 0.22    0.84       0.78      0.80"
      ]
     },
     "metadata": {},
     "output_type": "display_data"
    },
    {
     "name": "stdout",
     "output_type": "stream",
     "text": [
      "Elapsed time: 0:09:54.291159\n"
     ]
    },
    {
     "data": {
      "image/png": "[encoded data removed]",
      "text/plain": [
       "<Figure size 600x400 with 1 Axes>"
      ]
     },
     "metadata": {},
     "output_type": "display_data"
    },
    {
     "data": {
      "image/png": "[encoded data removed]",
      "text/plain": [
       "<Figure size 600x400 with 1 Axes>"
      ]
     },
     "metadata": {},
     "output_type": "display_data"
    },
    {
     "data": {
      "image/png": "[encoded data removed]",
      "text/plain": [
       "<Figure size 600x400 with 1 Axes>"
      ]
     },
     "metadata": {},
     "output_type": "display_data"
    },
    {
     "data": {
      "image/png": "[encoded data removed]",
      "text/plain": [
       "<Figure size 600x400 with 1 Axes>"
      ]
     },
     "metadata": {},
     "output_type": "display_data"
    },
    {
     "data": {
      "image/png": "[encoded data removed]",
      "text/plain": [
       "<Figure size 600x400 with 1 Axes>"
      ]
     },
     "metadata": {},
     "output_type": "display_data"
    }
   ],
   "source": [
    "# Run experiment\n",
    "K        = 5\n",
    "epochs   = 500\n",
    "lr       = 0.01\n",
    "momentum = 0 # unused with Adam (default SGD 0.95)\n",
    "\n",
    "#TOPOLOGIA 1\n",
    "topology = Dict()\n",
    "topology.name            = None\n",
    "topology.input_size      =  folds.trn[0].shape[1]-1  # remove target column count\n",
    "topology.layers          = 'inp :  64          : 32           : 2               :1'\n",
    "topology.activations     = 'inp : relu         : relu         : relu            : sigmoid'\n",
    "topology.initializations = 'inp : kaiming_relu : kaiming_relu : kaiming_relu    : xavier'\n",
    "\n",
    "model = MLP(topology)\n",
    "t = ETime()\n",
    "model_cross_validation(model, df, K, fold_data, train_model, epochs=epochs, lr=lr, momentum=momentum, verbose=False, plot=True)\n",
    "t.check()"
   ]
  }
 ],
 "metadata": {
  "kernelspec": {
   "display_name": "Python 3",
   "language": "python",
   "name": "python3"
  },
  "language_info": {
   "codemirror_mode": {
    "name": "ipython",
    "version": 3
   },
   "file_extension": ".py",
   "mimetype": "text/x-python",
   "name": "python",
   "nbconvert_exporter": "python",
   "pygments_lexer": "ipython3",
   "version": "3.7.3"
  }
 },
 "nbformat": 4,
 "nbformat_minor": 2
}
